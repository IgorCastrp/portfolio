{
 "cells": [
  {
   "cell_type": "code",
   "execution_count": 1,
   "id": "fefb1d55-a93d-4596-aac1-2ddad0311e5a",
   "metadata": {},
   "outputs": [
    {
     "name": "stdout",
     "output_type": "stream",
     "text": [
      "Hi 👍\n"
     ]
    }
   ],
   "source": [
    "print('Hi 👍')"
   ]
  },
  {
   "cell_type": "code",
   "execution_count": 3,
   "id": "5e29132e-4d3b-4099-b743-fed5c29d8a2c",
   "metadata": {},
   "outputs": [],
   "source": [
    "import pandas as pd\n",
    "import numpy as np\n",
    "import datetime as dt"
   ]
  },
  {
   "cell_type": "code",
   "execution_count": 4,
   "id": "fd262c3b-86ce-4e3f-9247-86f29d902737",
   "metadata": {},
   "outputs": [
    {
     "name": "stdout",
     "output_type": "stream",
     "text": [
      "Index(['steam_appid', 'name', 'developers', 'publishers', 'categories',\n",
      "       'genres', 'required_age', 'n_achievements', 'platforms', 'is_released',\n",
      "       'release_date', 'additional_content', 'total_reviews', 'total_positive',\n",
      "       'total_negative', 'review_score', 'review_score_desc',\n",
      "       'positive_percentual', 'metacritic', 'is_free', 'price_initial (USD)'],\n",
      "      dtype='object')\n"
     ]
    }
   ],
   "source": [
    "df = pd.read_csv('steam_games.csv')\n",
    "print(df.columns)"
   ]
  },
  {
   "cell_type": "code",
   "execution_count": 25,
   "id": "ecae352f-d76e-43fe-9e64-02411e301177",
   "metadata": {},
   "outputs": [],
   "source": [
    "df['release_date'] = pd.to_datetime(df['release_date'], errors='coerce')"
   ]
  },
  {
   "cell_type": "code",
   "execution_count": 31,
   "id": "f915f5df-323d-4a92-91b5-8484cafb8d11",
   "metadata": {},
   "outputs": [
    {
     "data": {
      "text/plain": [
       "steam_appid                     int64\n",
       "name                           object\n",
       "developers                     object\n",
       "publishers                     object\n",
       "categories                     object\n",
       "genres                         object\n",
       "required_age                    int64\n",
       "n_achievements                  int64\n",
       "platforms                      object\n",
       "is_released                      bool\n",
       "release_date           datetime64[ns]\n",
       "additional_content             object\n",
       "total_reviews                   int64\n",
       "total_positive                  int64\n",
       "total_negative                  int64\n",
       "review_score                  float64\n",
       "review_score_desc              object\n",
       "positive_percentual           float64\n",
       "metacritic                      int64\n",
       "is_free                          bool\n",
       "price_initial (USD)           float64\n",
       "dtype: object"
      ]
     },
     "execution_count": 31,
     "metadata": {},
     "output_type": "execute_result"
    }
   ],
   "source": [
    "df.dtypes"
   ]
  },
  {
   "cell_type": "code",
   "execution_count": null,
   "id": "a4a71cbc-a748-4667-a248-ea4aece90056",
   "metadata": {},
   "outputs": [],
   "source": []
  }
 ],
 "metadata": {
  "kernelspec": {
   "display_name": "Python [conda env:base] *",
   "language": "python",
   "name": "conda-base-py"
  },
  "language_info": {
   "codemirror_mode": {
    "name": "ipython",
    "version": 3
   },
   "file_extension": ".py",
   "mimetype": "text/x-python",
   "name": "python",
   "nbconvert_exporter": "python",
   "pygments_lexer": "ipython3",
   "version": "3.12.7"
  }
 },
 "nbformat": 4,
 "nbformat_minor": 5
}
